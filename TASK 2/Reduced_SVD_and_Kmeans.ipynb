{
  "nbformat": 4,
  "nbformat_minor": 0,
  "metadata": {
    "colab": {
      "provenance": []
    },
    "kernelspec": {
      "name": "python3",
      "display_name": "Python 3"
    },
    "language_info": {
      "name": "python"
    }
  },
  "cells": [
    {
      "cell_type": "code",
      "execution_count": 1,
      "metadata": {
        "id": "-VNy1FwZckwE"
      },
      "outputs": [],
      "source": [
        "import numpy as np"
      ]
    },
    {
      "cell_type": "code",
      "source": [
        "from google.colab import drive\n",
        "drive.mount('/content/drive')"
      ],
      "metadata": {
        "colab": {
          "base_uri": "https://localhost:8080/"
        },
        "id": "KwiGKYsScora",
        "outputId": "50e3ec92-6492-412e-b274-a285ded52a30"
      },
      "execution_count": 2,
      "outputs": [
        {
          "output_type": "stream",
          "name": "stdout",
          "text": [
            "Mounted at /content/drive\n"
          ]
        }
      ]
    },
    {
      "cell_type": "code",
      "source": [
        "class CustomKMeans:\n",
        "    def __init__(self, n_clusters, max_iter=300, tol=1e-4, random_state=None):\n",
        "        self.n_clusters = n_clusters\n",
        "        self.max_iter = max_iter\n",
        "        self.tol = tol\n",
        "        self.random_state = random_state\n",
        "        self.centroids = None\n",
        "        self.labels = None\n",
        "\n",
        "    def fit(self, X):\n",
        "        np.random.seed(self.random_state)\n",
        "        # Initialize centroids using kmeans++\n",
        "        self.centroids = self._initialize_centroids(X)\n",
        "\n",
        "        for _ in range(self.max_iter):\n",
        "            # Assign each data point to the nearest centroid\n",
        "            labels = self._assign_labels(X)\n",
        "            # Update centroids based on the mean of data points in each cluster\n",
        "            new_centroids = self._update_centroids(X, labels)\n",
        "            # Check if centroids have converged\n",
        "            if np.linalg.norm(new_centroids - self.centroids) < self.tol:\n",
        "                break\n",
        "            self.centroids = new_centroids\n",
        "            self.labels = labels\n",
        "\n",
        "    def predict(self, X):\n",
        "        # Assign each data point to the nearest centroid\n",
        "        return self._assign_labels(X)\n",
        "\n",
        "    def _initialize_centroids(self, X):\n",
        "        centroids = [X[np.random.choice(X.shape[0])]]\n",
        "        while len(centroids) < self.n_clusters:\n",
        "            dist_sq = np.array([min([np.linalg.norm(x - c)**2 for c in centroids]) for x in X])\n",
        "            probs = dist_sq / dist_sq.sum()\n",
        "            cumulative_probs = probs.cumsum()\n",
        "            r = np.random.rand()\n",
        "            i = np.searchsorted(cumulative_probs, r)\n",
        "            centroids.append(X[i])\n",
        "        return np.array(centroids)\n",
        "\n",
        "    def _assign_labels(self, X):\n",
        "        # Assign each data point to the nearest centroid\n",
        "        return np.argmin(np.linalg.norm(X[:, np.newaxis] - self.centroids, axis=2), axis=1)\n",
        "\n",
        "    def _update_centroids(self, X, labels):\n",
        "        # Update centroids based on the mean of data points in each cluster\n",
        "        new_centroids = np.array([X[labels == i].mean(axis=0) if np.sum(labels == i) > 0 else self.centroids[i] for i in range(self.n_clusters)])\n",
        "        return new_centroids\n"
      ],
      "metadata": {
        "id": "1kXnTzbxcqLm"
      },
      "execution_count": 3,
      "outputs": []
    },
    {
      "cell_type": "code",
      "source": [
        "import pandas as pd\n",
        "# Load data\n",
        "print(\"Loading data...\")\n",
        "movie_data = pd.read_csv('/content/drive/MyDrive/rsdats/movies.csv')\n",
        "user_data = pd.read_csv('/content/drive/MyDrive/rsdats/users.csv')\n",
        "rating_data = pd.read_csv('/content/drive/MyDrive/rsdats/ratings.csv')\n",
        "\n",
        "# Merge rating data with movie data\n",
        "print(\"Merging rating data with movie data...\")\n",
        "merged_data = pd.merge(rating_data, movie_data, left_on='MovieID', right_on='ID')\n",
        "\n",
        "# Merge with user data using UserID\n",
        "print(\"Merging with user data using UserID...\")\n",
        "merged_data = pd.merge(merged_data, user_data, on='UserID')\n",
        "\n",
        "# Pivot table of user ratings with movie titles as columns\n",
        "print(\"Creating user-item matrix...\")\n",
        "user_ratings = merged_data.pivot_table(index='UserID', columns='Title', values='Rating').fillna(0)"
      ],
      "metadata": {
        "colab": {
          "base_uri": "https://localhost:8080/"
        },
        "id": "_t5UxoVBcyje",
        "outputId": "0d0ab5f1-1012-42ee-a2bd-6a51ed7074f8"
      },
      "execution_count": 5,
      "outputs": [
        {
          "output_type": "stream",
          "name": "stdout",
          "text": [
            "Loading data...\n",
            "Merging rating data with movie data...\n",
            "Merging with user data using UserID...\n",
            "Creating user-item matrix...\n"
          ]
        }
      ]
    },
    {
      "cell_type": "code",
      "source": [
        "import numpy as np\n",
        "from tqdm import tqdm\n",
        "\n",
        "class CustomSVD:\n",
        "    def __init__(self, A, num_components=None):\n",
        "        print(\"Computing SVD...\")\n",
        "        self.U, self.S, self.Vt = self.svd(A, num_components)\n",
        "\n",
        "    def svd(self, A, num_components=None):\n",
        "        m, n = A.shape\n",
        "\n",
        "        # Compute A^T * A\n",
        "        print(\"Compute A^T * A\")\n",
        "        ATA = A.T.dot(A)\n",
        "\n",
        "        # Compute eigenvalues and eigenvectors of A^T * A\n",
        "        print(\"Compute eigenvalues and eigenvectors of A^T * A\")\n",
        "        eigenvalues, Vt = self.power_iteration(ATA)\n",
        "\n",
        "        # Sort eigenvalues in descending order\n",
        "        print(\"Sort eigenvalues in descending order\")\n",
        "        idx = np.argsort(eigenvalues)[::-1]\n",
        "        eigenvalues = eigenvalues[idx]\n",
        "        Vt = Vt[:, idx]\n",
        "\n",
        "        # Determine the number of components\n",
        "        if num_components is None:\n",
        "            num_components = min(m, n)\n",
        "\n",
        "        # Truncate singular values and vectors\n",
        "        singular_values = np.sqrt(eigenvalues)[:num_components]\n",
        "        U = np.zeros((m, num_components))\n",
        "        for i in tqdm(range(num_components), desc=\"Computing U\"):\n",
        "            u = np.dot(A, Vt[:, i]) / singular_values[i]\n",
        "            for j in range(i):\n",
        "                u -= np.dot(U[:, j], u) * U[:, j]\n",
        "            U[:, i] = u / np.linalg.norm(u)\n",
        "\n",
        "        return U, np.diag(singular_values), Vt.T[:, :num_components]\n",
        "\n",
        "    def power_iteration(self, A, max_iter=2, tol=1e-6):\n",
        "        n = A.shape[0]\n",
        "        eigenvalues = np.zeros(n)\n",
        "        eigenvectors = np.zeros((n, n))\n",
        "\n",
        "        for i in tqdm(range(n), desc=\"power itr\"):\n",
        "            # Set an initial guess for the eigenvector\n",
        "            x = np.random.rand(n)\n",
        "            x /= np.linalg.norm(x)\n",
        "\n",
        "            # Iterative method to find eigenvalues and eigenvectors using Power Iteration\n",
        "            for _ in range(max_iter):\n",
        "                x_next = A.dot(x)\n",
        "                eigenvalue = np.linalg.norm(x_next)\n",
        "                x_next /= eigenvalue\n",
        "\n",
        "                # Check for convergence\n",
        "                if np.linalg.norm(x_next - x) < tol:\n",
        "                    break\n",
        "\n",
        "                x = x_next\n",
        "\n",
        "            # Set the computed eigenvalue and eigenvector\n",
        "            eigenvalues[i] = eigenvalue\n",
        "            eigenvectors[:, i] = x\n",
        "\n",
        "            # Deflate the matrix\n",
        "            A -= eigenvalue * np.outer(x, x)\n",
        "\n",
        "        return eigenvalues, eigenvectors\n"
      ],
      "metadata": {
        "id": "IuBfpsW0czKt"
      },
      "execution_count": 10,
      "outputs": []
    },
    {
      "cell_type": "code",
      "source": [
        "# Apply SVD to reduce dimensions of the user ratings matrix\n",
        "svd = CustomSVD(user_ratings.values)\n",
        "U, S, Vt = svd.U, svd.S, svd.Vt"
      ],
      "metadata": {
        "colab": {
          "base_uri": "https://localhost:8080/"
        },
        "id": "4xtGZW2pc5tb",
        "outputId": "2baa621e-41d1-43b7-8e68-c7c776d9f64c"
      },
      "execution_count": 11,
      "outputs": [
        {
          "output_type": "stream",
          "name": "stdout",
          "text": [
            "Computing SVD...\n",
            "Compute A^T * A\n",
            "Compute eigenvalues and eigenvectors of A^T * A\n"
          ]
        },
        {
          "output_type": "stream",
          "name": "stderr",
          "text": [
            "power itr: 100%|██████████| 3706/3706 [08:04<00:00,  7.65it/s]\n"
          ]
        },
        {
          "output_type": "stream",
          "name": "stdout",
          "text": [
            "Sort eigenvalues in descending order\n"
          ]
        },
        {
          "output_type": "stream",
          "name": "stderr",
          "text": [
            "Computing U: 100%|██████████| 3706/3706 [27:48<00:00,  2.22it/s]\n"
          ]
        }
      ]
    },
    {
      "cell_type": "code",
      "source": [
        "U, S, Vt"
      ],
      "metadata": {
        "colab": {
          "base_uri": "https://localhost:8080/"
        },
        "id": "9G5OMWPpc74o",
        "outputId": "bdbef6ab-db4f-42cc-c8cf-4ef38514d47d"
      },
      "execution_count": 12,
      "outputs": [
        {
          "output_type": "execute_result",
          "data": {
            "text/plain": [
              "(array([[ 0.0047134 , -0.00473099, -0.00686935, ...,  0.01681287,\n",
              "         -0.01389041,  0.02526799],\n",
              "        [ 0.00928017,  0.00166753, -0.00949428, ..., -0.00732309,\n",
              "          0.00418976,  0.00076775],\n",
              "        [ 0.00499941, -0.00010978, -0.01208486, ..., -0.00814072,\n",
              "          0.03186233,  0.01105844],\n",
              "        ...,\n",
              "        [ 0.00138807, -0.00266405, -0.0017137 , ..., -0.01813244,\n",
              "          0.00679553, -0.01281695],\n",
              "        [ 0.00701449, -0.01993456,  0.00187645, ...,  0.00911832,\n",
              "          0.00256742,  0.01683817],\n",
              "        [ 0.01896282, -0.03955345, -0.00948862, ..., -0.00999643,\n",
              "         -0.00326711,  0.00411221]]),\n",
              " array([[1891.93651079,    0.        ,    0.        , ...,    0.        ,\n",
              "            0.        ,    0.        ],\n",
              "        [   0.        ,  589.70003056,    0.        , ...,    0.        ,\n",
              "            0.        ,    0.        ],\n",
              "        [   0.        ,    0.        ,  498.55157491, ...,    0.        ,\n",
              "            0.        ,    0.        ],\n",
              "        ...,\n",
              "        [   0.        ,    0.        ,    0.        , ...,   11.97939458,\n",
              "            0.        ,    0.        ],\n",
              "        [   0.        ,    0.        ,    0.        , ...,    0.        ,\n",
              "           11.97800649,    0.        ],\n",
              "        [   0.        ,    0.        ,    0.        , ...,    0.        ,\n",
              "            0.        ,   11.82013208]]),\n",
              " array([[ 1.41033995e-03,  3.07731966e-03,  1.58862508e-03, ...,\n",
              "          1.54505814e-04,  7.21953316e-04,  1.29437056e-02],\n",
              "        [ 9.15811256e-05, -2.41452845e-03,  1.12954200e-03, ...,\n",
              "          4.11168120e-04,  1.12828231e-03,  1.91284892e-02],\n",
              "        [ 4.45953532e-03,  1.27198967e-02,  5.28613634e-03, ...,\n",
              "          9.87194850e-04,  2.46956273e-03,  6.92665435e-03],\n",
              "        ...,\n",
              "        [ 6.04364773e-03,  1.12555832e-02,  1.33131944e-02, ...,\n",
              "          2.50065586e-03,  5.79830867e-03, -2.34767384e-02],\n",
              "        [-8.12658187e-03,  1.39258061e-02,  1.29884248e-02, ...,\n",
              "         -3.05782520e-03, -4.52472344e-04,  1.74703533e-02],\n",
              "        [ 7.11945002e-03,  1.55927350e-02,  1.91944382e-02, ...,\n",
              "          2.89821422e-03,  2.47088277e-03,  9.94351490e-04]]))"
            ]
          },
          "metadata": {},
          "execution_count": 12
        }
      ]
    },
    {
      "cell_type": "code",
      "source": [
        "U[0]"
      ],
      "metadata": {
        "colab": {
          "base_uri": "https://localhost:8080/"
        },
        "id": "dQ8QOrTndAUu",
        "outputId": "12dc5fc1-8708-43fb-d469-7e50ab33cc48"
      },
      "execution_count": 15,
      "outputs": [
        {
          "output_type": "execute_result",
          "data": {
            "text/plain": [
              "array([ 0.0047134 , -0.00473099, -0.00686935, ...,  0.01681287,\n",
              "       -0.01389041,  0.02526799])"
            ]
          },
          "metadata": {},
          "execution_count": 15
        }
      ]
    },
    {
      "cell_type": "code",
      "source": [
        "# Apply KMeans clustering to cluster users based on reduced features\n",
        "kmeans = CustomKMeans(n_clusters=4)\n",
        "kmeans.fit(U)"
      ],
      "metadata": {
        "id": "tsvAqibIdB4E"
      },
      "execution_count": 16,
      "outputs": []
    },
    {
      "cell_type": "code",
      "source": [
        "# Add cluster labels to user data\n",
        "user_data['Cluster'] = kmeans.predict(U)"
      ],
      "metadata": {
        "id": "Q_uojxnZdDMb"
      },
      "execution_count": 17,
      "outputs": []
    },
    {
      "cell_type": "code",
      "source": [
        "# New user ratings\n",
        "new_user_ratings = {'Toy Story (1995)': 5, 'Jurassic Park (1993)': 4, 'Forrest Gump (1994)': 3}\n",
        "\n",
        "# Create a DataFrame for the new user\n",
        "new_user_data = pd.DataFrame(new_user_ratings, index=[0])\n",
        "\n",
        "# Convert movie titles to columns\n",
        "new_user_movies = pd.DataFrame(columns=user_ratings.columns)\n",
        "\n",
        "# Merge new user data with the movie DataFrame\n",
        "new_user_data_merged = pd.merge(new_user_movies, new_user_data, how='outer').fillna(0)\n",
        "\n",
        "# Reorder the columns of new_user_data_merged to match the order of user_ratings\n",
        "new_user_data_reordered = new_user_data_merged[user_ratings.columns]"
      ],
      "metadata": {
        "id": "RhH7WajIdEpZ"
      },
      "execution_count": 18,
      "outputs": []
    },
    {
      "cell_type": "code",
      "source": [
        "# Transform the new user data using SVD\n",
        "new_user_data_reduced = np.dot(new_user_data_reordered, Vt.T)\n",
        "\n",
        "# Find the cluster of the new user\n",
        "new_user_cluster = kmeans.predict(new_user_data_reduced)\n",
        "print(new_user_cluster)"
      ],
      "metadata": {
        "colab": {
          "base_uri": "https://localhost:8080/"
        },
        "id": "wRqZNclAdF3x",
        "outputId": "9276096c-564a-4e30-de8f-77982a0dd2ff"
      },
      "execution_count": 19,
      "outputs": [
        {
          "output_type": "stream",
          "name": "stdout",
          "text": [
            "[3]\n"
          ]
        }
      ]
    },
    {
      "cell_type": "code",
      "source": [
        "# Filter users in the same cluster\n",
        "users_same_cluster = user_data[user_data['Cluster'] == new_user_cluster[0]]\n",
        "\n",
        "# Get the IDs of users in the same cluster\n",
        "user_ids_same_cluster = users_same_cluster['UserID']\n",
        "\n",
        "# Filter ratings of users in the same cluster\n",
        "ratings_same_cluster = merged_data[merged_data['UserID'].isin(user_ids_same_cluster)]\n",
        "\n",
        "# Calculate the mean rating for each movie among users in the same cluster\n",
        "mean_ratings = ratings_same_cluster.groupby('Title')['Rating'].mean().sort_values(ascending=False)\n",
        "\n",
        "print(mean_ratings.head())"
      ],
      "metadata": {
        "colab": {
          "base_uri": "https://localhost:8080/"
        },
        "id": "rTUFU93kdHGr",
        "outputId": "8973cbbd-1fdf-4976-96b2-78bbb53b191b"
      },
      "execution_count": 20,
      "outputs": [
        {
          "output_type": "stream",
          "name": "stdout",
          "text": [
            "Title\n",
            "Follow the Bitch (1998)                      5.0\n",
            "Lured (1947)                                 5.0\n",
            "Schlafes Bruder (Brother of Sleep) (1995)    5.0\n",
            "Ulysses (Ulisse) (1954)                      5.0\n",
            "Baby, The (1973)                             5.0\n",
            "Name: Rating, dtype: float64\n"
          ]
        }
      ]
    },
    {
      "cell_type": "code",
      "source": [],
      "metadata": {
        "id": "xLIrq6R8dIab"
      },
      "execution_count": null,
      "outputs": []
    }
  ]
}