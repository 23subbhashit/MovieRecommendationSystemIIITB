{
  "nbformat": 4,
  "nbformat_minor": 0,
  "metadata": {
    "colab": {
      "provenance": []
    },
    "kernelspec": {
      "name": "python3",
      "display_name": "Python 3"
    },
    "language_info": {
      "name": "python"
    }
  },
  "cells": [
    {
      "cell_type": "code",
      "source": [
        "import pandas as pd\n",
        "import numpy as np\n",
        "from tqdm import tqdm\n",
        "\n",
        "class CustomKMeans:\n",
        "    def __init__(self, n_clusters, max_iter=2, tol=1e-4, random_state=None):\n",
        "        self.n_clusters = n_clusters\n",
        "        self.max_iter = max_iter\n",
        "        self.tol = tol\n",
        "        self.random_state = random_state\n",
        "        self.centroids = None\n",
        "        self.labels = None\n",
        "\n",
        "    def fit(self, X):\n",
        "        np.random.seed(self.random_state)\n",
        "        # Initialize centroids using kmeans++\n",
        "        self.centroids = self._initialize_centroids(X)\n",
        "\n",
        "        for _ in range(self.max_iter):\n",
        "            # Assign each data point to the nearest centroid\n",
        "            labels = self._assign_labels(X)\n",
        "            # Update centroids based on the mean of data points in each cluster\n",
        "            new_centroids = self._update_centroids(X, labels)\n",
        "            # Check if centroids have converged\n",
        "            if np.linalg.norm(new_centroids - self.centroids) < self.tol:\n",
        "                break\n",
        "            self.centroids = new_centroids\n",
        "            self.labels = labels\n",
        "\n",
        "    def predict(self, X):\n",
        "        # Assign each data point to the nearest centroid\n",
        "        return self._assign_labels(X)\n",
        "\n",
        "    def _initialize_centroids(self, X):\n",
        "        centroids = [X[np.random.choice(X.shape[0])]]\n",
        "        while len(centroids) < self.n_clusters:\n",
        "            dist_sq = np.array([min([np.linalg.norm(x - c)**2 for c in centroids]) for x in X])\n",
        "            probs = dist_sq / dist_sq.sum()\n",
        "            cumulative_probs = probs.cumsum()\n",
        "            r = np.random.rand()\n",
        "            i = np.searchsorted(cumulative_probs, r)\n",
        "            centroids.append(X[i])\n",
        "        return np.array(centroids)\n",
        "\n",
        "    def _assign_labels(self, X):\n",
        "        # Assign each data point to the nearest centroid\n",
        "        return np.argmin(np.linalg.norm(X[:, np.newaxis] - self.centroids, axis=2), axis=1)\n",
        "\n",
        "    def _update_centroids(self, X, labels):\n",
        "        # Update centroids based on the mean of data points in each cluster\n",
        "        new_centroids = np.array([X[labels == i].mean(axis=0) if np.sum(labels == i) > 0 else self.centroids[i] for i in range(self.n_clusters)])\n",
        "        return new_centroids\n",
        "\n",
        "class CustomSVD:\n",
        "    def __init__(self, A, num_components=None):\n",
        "        print(\"Computing SVD...\")\n",
        "        self.U, self.S, self.Vt = self.svd(A, num_components)\n",
        "\n",
        "    def svd(self, A, num_components=None):\n",
        "        m, n = A.shape\n",
        "\n",
        "        # Compute A^T * A\n",
        "        print(\"Compute A^T * A\")\n",
        "        ATA = A.T.dot(A)\n",
        "\n",
        "        # Compute eigenvalues and eigenvectors of A^T * A\n",
        "        print(\"Compute eigenvalues and eigenvectors of A^T * A\")\n",
        "        eigenvalues, Vt = self.power_iteration(ATA)\n",
        "\n",
        "        # Sort eigenvalues in descending order\n",
        "        print(\"Sort eigenvalues in descending order\")\n",
        "        idx = np.argsort(eigenvalues)[::-1]\n",
        "        eigenvalues = eigenvalues[idx]\n",
        "        Vt = Vt[:, idx]\n",
        "        # Determine the number of components\n",
        "        if num_components is None:\n",
        "            num_components = min(m, n)\n",
        "\n",
        "        # Truncate singular values and vectors\n",
        "        singular_values = np.sqrt(eigenvalues)[:num_components]\n",
        "        U = np.zeros((m, num_components))\n",
        "        for i in tqdm(range(num_components), desc=\"Computing U\", position=0):\n",
        "            u = np.dot(A, Vt[:, i]) / singular_values[i]\n",
        "            for j in range(i):\n",
        "                u -= np.dot(U[:, j], u) * U[:, j]\n",
        "            U[:, i] = u / np.linalg.norm(u)\n",
        "\n",
        "        return U, np.diag(singular_values), Vt.T[:, :num_components]\n",
        "\n",
        "    def power_iteration(self, A, max_iter=2, tol=1e-6):\n",
        "        n = A.shape[0]\n",
        "        eigenvalues = np.zeros(n)\n",
        "        eigenvectors = np.zeros((n, n))\n",
        "\n",
        "        for i in tqdm(range(n), desc=\"power itr\", position=0):\n",
        "            # Set an initial guess for the eigenvector\n",
        "            x = np.random.rand(n)\n",
        "            x /= np.linalg.norm(x)\n",
        "\n",
        "            # Iterative method to find eigenvalues and eigenvectors using Power Iteration\n",
        "            for _ in range(max_iter):\n",
        "                x_next = A.dot(x)\n",
        "                eigenvalue = np.linalg.norm(x_next)\n",
        "                x_next /= eigenvalue\n",
        "                # Check for convergence\n",
        "                if np.linalg.norm(x_next - x) < tol:\n",
        "                    break\n",
        "\n",
        "                x = x_next\n",
        "\n",
        "            # Set the computed eigenvalue and eigenvector\n",
        "            eigenvalues[i] = eigenvalue\n",
        "            eigenvectors[:, i] = x\n",
        "\n",
        "            # Deflate the matrix\n",
        "            A -= eigenvalue * np.outer(x, x)\n",
        "\n",
        "        return eigenvalues, eigenvectors\n",
        "\n",
        "\n",
        "# Load data\n",
        "print(\"Loading data...\")\n",
        "movie_data = pd.read_csv('/content/drive/MyDrive/rsdats/movies.csv')\n",
        "user_data = pd.read_csv('/content/drive/MyDrive/rsdats/users.csv')\n",
        "rating_data = pd.read_csv('/content/drive/MyDrive/rsdats/ratings.csv')\n",
        "\n",
        "# Merge rating data with movie data\n",
        "print(\"Merging rating data with movie data...\")\n",
        "merged_data = pd.merge(rating_data, movie_data, left_on='MovieID', right_on='ID')\n",
        "\n",
        "# Merge with user data using UserID\n",
        "print(\"Merging with user data using UserID...\")\n",
        "merged_data = pd.merge(merged_data, user_data, on='UserID')\n",
        "\n",
        "# Pivot table of user ratings with movie titles as columns\n",
        "print(\"Creating user-item matrix...\")\n",
        "user_ratings = merged_data.pivot_table(index='UserID', columns='Title', values='Rating').fillna(0)\n",
        "\n",
        "# Apply KMeans clustering to group similar users\n",
        "print(\"Performing KMeans clustering on user ratings...\")\n",
        "kmeans = CustomKMeans(n_clusters=4, random_state=42)\n",
        "kmeans.fit(user_ratings.values)\n",
        "cluster_labels = kmeans.predict(user_ratings.values)\n",
        "\n",
        "# Apply SVD to each cluster separately\n",
        "print(\"Applying SVD to each cluster separately...\")\n",
        "clusters = {}\n",
        "for cluster_id in tqdm(range(4), desc=\"Cluster\", position=0):\n",
        "    cluster_indices = np.where(cluster_labels == cluster_id)[0]\n",
        "    cluster_data = user_ratings.values[cluster_indices]\n",
        "    svd = CustomSVD(cluster_data, num_components=50)\n",
        "    clusters[cluster_id] = svd"
      ],
      "metadata": {
        "colab": {
          "base_uri": "https://localhost:8080/",
          "height": 546
        },
        "id": "FTsa3jHKv_HB",
        "outputId": "d6c7a37a-89c6-48fb-9c1f-71a87e5aa348"
      },
      "execution_count": 208,
      "outputs": [
        {
          "output_type": "stream",
          "name": "stdout",
          "text": [
            "Loading data...\n",
            "Merging rating data with movie data...\n",
            "Merging with user data using UserID...\n",
            "Creating user-item matrix...\n",
            "Performing KMeans clustering on user ratings...\n",
            "Applying SVD to each cluster separately...\n"
          ]
        },
        {
          "output_type": "stream",
          "name": "stderr",
          "text": [
            "\rCluster:   0%|          | 0/4 [00:00<?, ?it/s]"
          ]
        },
        {
          "output_type": "stream",
          "name": "stdout",
          "text": [
            "Computing SVD...\n",
            "Compute A^T * A\n",
            "Compute eigenvalues and eigenvectors of A^T * A\n"
          ]
        },
        {
          "output_type": "stream",
          "name": "stderr",
          "text": [
            "power itr:   2%|▏         | 75/3706 [00:12<10:08,  5.97it/s]\n",
            "Cluster:   0%|          | 0/4 [00:12<?, ?it/s]\n"
          ]
        },
        {
          "output_type": "error",
          "ename": "KeyboardInterrupt",
          "evalue": "",
          "traceback": [
            "\u001b[0;31m---------------------------------------------------------------------------\u001b[0m",
            "\u001b[0;31mKeyboardInterrupt\u001b[0m                         Traceback (most recent call last)",
            "\u001b[0;32m<ipython-input-208-ce68cf88e38c>\u001b[0m in \u001b[0;36m<cell line: 148>\u001b[0;34m()\u001b[0m\n\u001b[1;32m    149\u001b[0m     \u001b[0mcluster_indices\u001b[0m \u001b[0;34m=\u001b[0m \u001b[0mnp\u001b[0m\u001b[0;34m.\u001b[0m\u001b[0mwhere\u001b[0m\u001b[0;34m(\u001b[0m\u001b[0mcluster_labels\u001b[0m \u001b[0;34m==\u001b[0m \u001b[0mcluster_id\u001b[0m\u001b[0;34m)\u001b[0m\u001b[0;34m[\u001b[0m\u001b[0;36m0\u001b[0m\u001b[0;34m]\u001b[0m\u001b[0;34m\u001b[0m\u001b[0;34m\u001b[0m\u001b[0m\n\u001b[1;32m    150\u001b[0m     \u001b[0mcluster_data\u001b[0m \u001b[0;34m=\u001b[0m \u001b[0muser_ratings\u001b[0m\u001b[0;34m.\u001b[0m\u001b[0mvalues\u001b[0m\u001b[0;34m[\u001b[0m\u001b[0mcluster_indices\u001b[0m\u001b[0;34m]\u001b[0m\u001b[0;34m\u001b[0m\u001b[0;34m\u001b[0m\u001b[0m\n\u001b[0;32m--> 151\u001b[0;31m     \u001b[0msvd\u001b[0m \u001b[0;34m=\u001b[0m \u001b[0mCustomSVD\u001b[0m\u001b[0;34m(\u001b[0m\u001b[0mcluster_data\u001b[0m\u001b[0;34m,\u001b[0m \u001b[0mnum_components\u001b[0m\u001b[0;34m=\u001b[0m\u001b[0;36m50\u001b[0m\u001b[0;34m)\u001b[0m\u001b[0;34m\u001b[0m\u001b[0;34m\u001b[0m\u001b[0m\n\u001b[0m\u001b[1;32m    152\u001b[0m     \u001b[0mclusters\u001b[0m\u001b[0;34m[\u001b[0m\u001b[0mcluster_id\u001b[0m\u001b[0;34m]\u001b[0m \u001b[0;34m=\u001b[0m \u001b[0msvd\u001b[0m\u001b[0;34m\u001b[0m\u001b[0;34m\u001b[0m\u001b[0m\n",
            "\u001b[0;32m<ipython-input-208-ce68cf88e38c>\u001b[0m in \u001b[0;36m__init__\u001b[0;34m(self, A, num_components)\u001b[0m\n\u001b[1;32m     55\u001b[0m     \u001b[0;32mdef\u001b[0m \u001b[0m__init__\u001b[0m\u001b[0;34m(\u001b[0m\u001b[0mself\u001b[0m\u001b[0;34m,\u001b[0m \u001b[0mA\u001b[0m\u001b[0;34m,\u001b[0m \u001b[0mnum_components\u001b[0m\u001b[0;34m=\u001b[0m\u001b[0;32mNone\u001b[0m\u001b[0;34m)\u001b[0m\u001b[0;34m:\u001b[0m\u001b[0;34m\u001b[0m\u001b[0;34m\u001b[0m\u001b[0m\n\u001b[1;32m     56\u001b[0m         \u001b[0mprint\u001b[0m\u001b[0;34m(\u001b[0m\u001b[0;34m\"Computing SVD...\"\u001b[0m\u001b[0;34m)\u001b[0m\u001b[0;34m\u001b[0m\u001b[0;34m\u001b[0m\u001b[0m\n\u001b[0;32m---> 57\u001b[0;31m         \u001b[0mself\u001b[0m\u001b[0;34m.\u001b[0m\u001b[0mU\u001b[0m\u001b[0;34m,\u001b[0m \u001b[0mself\u001b[0m\u001b[0;34m.\u001b[0m\u001b[0mS\u001b[0m\u001b[0;34m,\u001b[0m \u001b[0mself\u001b[0m\u001b[0;34m.\u001b[0m\u001b[0mVt\u001b[0m \u001b[0;34m=\u001b[0m \u001b[0mself\u001b[0m\u001b[0;34m.\u001b[0m\u001b[0msvd\u001b[0m\u001b[0;34m(\u001b[0m\u001b[0mA\u001b[0m\u001b[0;34m,\u001b[0m \u001b[0mnum_components\u001b[0m\u001b[0;34m)\u001b[0m\u001b[0;34m\u001b[0m\u001b[0;34m\u001b[0m\u001b[0m\n\u001b[0m\u001b[1;32m     58\u001b[0m \u001b[0;34m\u001b[0m\u001b[0m\n\u001b[1;32m     59\u001b[0m     \u001b[0;32mdef\u001b[0m \u001b[0msvd\u001b[0m\u001b[0;34m(\u001b[0m\u001b[0mself\u001b[0m\u001b[0;34m,\u001b[0m \u001b[0mA\u001b[0m\u001b[0;34m,\u001b[0m \u001b[0mnum_components\u001b[0m\u001b[0;34m=\u001b[0m\u001b[0;32mNone\u001b[0m\u001b[0;34m)\u001b[0m\u001b[0;34m:\u001b[0m\u001b[0;34m\u001b[0m\u001b[0;34m\u001b[0m\u001b[0m\n",
            "\u001b[0;32m<ipython-input-208-ce68cf88e38c>\u001b[0m in \u001b[0;36msvd\u001b[0;34m(self, A, num_components)\u001b[0m\n\u001b[1;32m     66\u001b[0m         \u001b[0;31m# Compute eigenvalues and eigenvectors of A^T * A\u001b[0m\u001b[0;34m\u001b[0m\u001b[0;34m\u001b[0m\u001b[0m\n\u001b[1;32m     67\u001b[0m         \u001b[0mprint\u001b[0m\u001b[0;34m(\u001b[0m\u001b[0;34m\"Compute eigenvalues and eigenvectors of A^T * A\"\u001b[0m\u001b[0;34m)\u001b[0m\u001b[0;34m\u001b[0m\u001b[0;34m\u001b[0m\u001b[0m\n\u001b[0;32m---> 68\u001b[0;31m         \u001b[0meigenvalues\u001b[0m\u001b[0;34m,\u001b[0m \u001b[0mVt\u001b[0m \u001b[0;34m=\u001b[0m \u001b[0mself\u001b[0m\u001b[0;34m.\u001b[0m\u001b[0mpower_iteration\u001b[0m\u001b[0;34m(\u001b[0m\u001b[0mATA\u001b[0m\u001b[0;34m)\u001b[0m\u001b[0;34m\u001b[0m\u001b[0;34m\u001b[0m\u001b[0m\n\u001b[0m\u001b[1;32m     69\u001b[0m \u001b[0;34m\u001b[0m\u001b[0m\n\u001b[1;32m     70\u001b[0m         \u001b[0;31m# Sort eigenvalues in descending order\u001b[0m\u001b[0;34m\u001b[0m\u001b[0;34m\u001b[0m\u001b[0m\n",
            "\u001b[0;32m<ipython-input-208-ce68cf88e38c>\u001b[0m in \u001b[0;36mpower_iteration\u001b[0;34m(self, A, max_iter, tol)\u001b[0m\n\u001b[1;32m    114\u001b[0m \u001b[0;34m\u001b[0m\u001b[0m\n\u001b[1;32m    115\u001b[0m             \u001b[0;31m# Deflate the matrix\u001b[0m\u001b[0;34m\u001b[0m\u001b[0;34m\u001b[0m\u001b[0m\n\u001b[0;32m--> 116\u001b[0;31m             \u001b[0mA\u001b[0m \u001b[0;34m-=\u001b[0m \u001b[0meigenvalue\u001b[0m \u001b[0;34m*\u001b[0m \u001b[0mnp\u001b[0m\u001b[0;34m.\u001b[0m\u001b[0mouter\u001b[0m\u001b[0;34m(\u001b[0m\u001b[0mx\u001b[0m\u001b[0;34m,\u001b[0m \u001b[0mx\u001b[0m\u001b[0;34m)\u001b[0m\u001b[0;34m\u001b[0m\u001b[0;34m\u001b[0m\u001b[0m\n\u001b[0m\u001b[1;32m    117\u001b[0m \u001b[0;34m\u001b[0m\u001b[0m\n\u001b[1;32m    118\u001b[0m         \u001b[0;32mreturn\u001b[0m \u001b[0meigenvalues\u001b[0m\u001b[0;34m,\u001b[0m \u001b[0meigenvectors\u001b[0m\u001b[0;34m\u001b[0m\u001b[0;34m\u001b[0m\u001b[0m\n",
            "\u001b[0;32m/usr/local/lib/python3.10/dist-packages/numpy/core/numeric.py\u001b[0m in \u001b[0;36mouter\u001b[0;34m(a, b, out)\u001b[0m\n\u001b[1;32m    923\u001b[0m     \u001b[0ma\u001b[0m \u001b[0;34m=\u001b[0m \u001b[0masarray\u001b[0m\u001b[0;34m(\u001b[0m\u001b[0ma\u001b[0m\u001b[0;34m)\u001b[0m\u001b[0;34m\u001b[0m\u001b[0;34m\u001b[0m\u001b[0m\n\u001b[1;32m    924\u001b[0m     \u001b[0mb\u001b[0m \u001b[0;34m=\u001b[0m \u001b[0masarray\u001b[0m\u001b[0;34m(\u001b[0m\u001b[0mb\u001b[0m\u001b[0;34m)\u001b[0m\u001b[0;34m\u001b[0m\u001b[0;34m\u001b[0m\u001b[0m\n\u001b[0;32m--> 925\u001b[0;31m     \u001b[0;32mreturn\u001b[0m \u001b[0mmultiply\u001b[0m\u001b[0;34m(\u001b[0m\u001b[0ma\u001b[0m\u001b[0;34m.\u001b[0m\u001b[0mravel\u001b[0m\u001b[0;34m(\u001b[0m\u001b[0;34m)\u001b[0m\u001b[0;34m[\u001b[0m\u001b[0;34m:\u001b[0m\u001b[0;34m,\u001b[0m \u001b[0mnewaxis\u001b[0m\u001b[0;34m]\u001b[0m\u001b[0;34m,\u001b[0m \u001b[0mb\u001b[0m\u001b[0;34m.\u001b[0m\u001b[0mravel\u001b[0m\u001b[0;34m(\u001b[0m\u001b[0;34m)\u001b[0m\u001b[0;34m[\u001b[0m\u001b[0mnewaxis\u001b[0m\u001b[0;34m,\u001b[0m \u001b[0;34m:\u001b[0m\u001b[0;34m]\u001b[0m\u001b[0;34m,\u001b[0m \u001b[0mout\u001b[0m\u001b[0;34m)\u001b[0m\u001b[0;34m\u001b[0m\u001b[0;34m\u001b[0m\u001b[0m\n\u001b[0m\u001b[1;32m    926\u001b[0m \u001b[0;34m\u001b[0m\u001b[0m\n\u001b[1;32m    927\u001b[0m \u001b[0;34m\u001b[0m\u001b[0m\n",
            "\u001b[0;31mKeyboardInterrupt\u001b[0m: "
          ]
        }
      ]
    },
    {
      "cell_type": "code",
      "source": [
        "import pickle\n",
        "\n",
        "# Save clusters dictionary\n",
        "with open('clusters.pkl', 'wb') as f:\n",
        "    pickle.dump(clusters, f)\n",
        "\n",
        "# Save kmeans object\n",
        "with open('kmeans.pkl', 'wb') as f:\n",
        "    pickle.dump(kmeans, f)\n"
      ],
      "metadata": {
        "id": "PGRqGqix4bkG"
      },
      "execution_count": 37,
      "outputs": []
    },
    {
      "cell_type": "code",
      "source": [
        "# Save kmeans object\n",
        "with open('labels.pkl', 'wb') as f:\n",
        "    pickle.dump(cluster_labels, f)\n"
      ],
      "metadata": {
        "id": "-hnYNQOdJHLj"
      },
      "execution_count": 113,
      "outputs": []
    },
    {
      "cell_type": "code",
      "source": [
        "# Load clusters dictionary\n",
        "with open('clusters.pkl', 'rb') as f:\n",
        "    clusters = pickle.load(f)\n",
        "\n",
        "# Load kmeans object\n",
        "with open('kmeans.pkl', 'rb') as f:\n",
        "    kmeans = pickle.load(f)\n",
        "\n",
        "# Load kmeans object\n",
        "with open('labels.pkl', 'rb') as f:\n",
        "    cluster_labels = pickle.load(f)\n"
      ],
      "metadata": {
        "id": "hLQr8gYwwHXt"
      },
      "execution_count": 114,
      "outputs": []
    },
    {
      "cell_type": "code",
      "source": [
        "# New user ratings\n",
        "new_user_ratings = {'Toy Story (1995)': 5, 'Jurassic Park (1993)': 4, 'Forrest Gump (1994)': 3}\n",
        "\n",
        "# Create a DataFrame for the new user\n",
        "new_user_data = pd.DataFrame(new_user_ratings, index=[0])\n",
        "\n",
        "# Convert movie titles to columns\n",
        "new_user_movies = pd.DataFrame(columns=user_ratings.columns)\n",
        "\n",
        "# Merge new user data with the movie DataFrame\n",
        "new_user_data_merged = pd.merge(new_user_movies, new_user_data, how='outer').fillna(0)\n",
        "\n",
        "# Reorder the columns of new_user_data_merged to match the order of user_ratings\n",
        "new_user_data_reordered = new_user_data_merged[user_ratings.columns]"
      ],
      "metadata": {
        "id": "UPCHvUVR4rdZ"
      },
      "execution_count": 115,
      "outputs": []
    },
    {
      "cell_type": "code",
      "source": [
        "new_user_df=new_user_data_reordered\n",
        "new_user_df"
      ],
      "metadata": {
        "colab": {
          "base_uri": "https://localhost:8080/",
          "height": 216
        },
        "id": "c5YlQC8P4zIv",
        "outputId": "d8d2421f-c840-4bb9-89f3-ce838ce66528"
      },
      "execution_count": 116,
      "outputs": [
        {
          "output_type": "execute_result",
          "data": {
            "text/plain": [
              "   $1,000,000 Duck (1971)  'Night Mother (1986)  'Til There Was You (1997)  \\\n",
              "0                       0                     0                          0   \n",
              "\n",
              "   'burbs, The (1989)  ...And Justice for All (1979)  1-900 (1994)  \\\n",
              "0                   0                              0             0   \n",
              "\n",
              "   10 Things I Hate About You (1999)  101 Dalmatians (1961)  \\\n",
              "0                                  0                      0   \n",
              "\n",
              "   101 Dalmatians (1996)  12 Angry Men (1957)  ...  \\\n",
              "0                      0                    0  ...   \n",
              "\n",
              "   Young Poisoner's Handbook, The (1995)  Young Sherlock Holmes (1985)  \\\n",
              "0                                      0                             0   \n",
              "\n",
              "   Young and Innocent (1937)  Your Friends and Neighbors (1998)  \\\n",
              "0                          0                                  0   \n",
              "\n",
              "   Zachariah (1971)  Zed & Two Noughts, A (1985)  Zero Effect (1998)  \\\n",
              "0                 0                            0                   0   \n",
              "\n",
              "   Zero Kelvin (Kjærlighetens kjøtere) (1995)  Zeus and Roxanne (1997)  \\\n",
              "0                                           0                        0   \n",
              "\n",
              "   eXistenZ (1999)  \n",
              "0                0  \n",
              "\n",
              "[1 rows x 3706 columns]"
            ],
            "text/html": [
              "\n",
              "  <div id=\"df-90ef7c6f-3e8d-4cfd-8f81-25956d240376\" class=\"colab-df-container\">\n",
              "    <div>\n",
              "<style scoped>\n",
              "    .dataframe tbody tr th:only-of-type {\n",
              "        vertical-align: middle;\n",
              "    }\n",
              "\n",
              "    .dataframe tbody tr th {\n",
              "        vertical-align: top;\n",
              "    }\n",
              "\n",
              "    .dataframe thead th {\n",
              "        text-align: right;\n",
              "    }\n",
              "</style>\n",
              "<table border=\"1\" class=\"dataframe\">\n",
              "  <thead>\n",
              "    <tr style=\"text-align: right;\">\n",
              "      <th></th>\n",
              "      <th>$1,000,000 Duck (1971)</th>\n",
              "      <th>'Night Mother (1986)</th>\n",
              "      <th>'Til There Was You (1997)</th>\n",
              "      <th>'burbs, The (1989)</th>\n",
              "      <th>...And Justice for All (1979)</th>\n",
              "      <th>1-900 (1994)</th>\n",
              "      <th>10 Things I Hate About You (1999)</th>\n",
              "      <th>101 Dalmatians (1961)</th>\n",
              "      <th>101 Dalmatians (1996)</th>\n",
              "      <th>12 Angry Men (1957)</th>\n",
              "      <th>...</th>\n",
              "      <th>Young Poisoner's Handbook, The (1995)</th>\n",
              "      <th>Young Sherlock Holmes (1985)</th>\n",
              "      <th>Young and Innocent (1937)</th>\n",
              "      <th>Your Friends and Neighbors (1998)</th>\n",
              "      <th>Zachariah (1971)</th>\n",
              "      <th>Zed &amp; Two Noughts, A (1985)</th>\n",
              "      <th>Zero Effect (1998)</th>\n",
              "      <th>Zero Kelvin (Kjærlighetens kjøtere) (1995)</th>\n",
              "      <th>Zeus and Roxanne (1997)</th>\n",
              "      <th>eXistenZ (1999)</th>\n",
              "    </tr>\n",
              "  </thead>\n",
              "  <tbody>\n",
              "    <tr>\n",
              "      <th>0</th>\n",
              "      <td>0</td>\n",
              "      <td>0</td>\n",
              "      <td>0</td>\n",
              "      <td>0</td>\n",
              "      <td>0</td>\n",
              "      <td>0</td>\n",
              "      <td>0</td>\n",
              "      <td>0</td>\n",
              "      <td>0</td>\n",
              "      <td>0</td>\n",
              "      <td>...</td>\n",
              "      <td>0</td>\n",
              "      <td>0</td>\n",
              "      <td>0</td>\n",
              "      <td>0</td>\n",
              "      <td>0</td>\n",
              "      <td>0</td>\n",
              "      <td>0</td>\n",
              "      <td>0</td>\n",
              "      <td>0</td>\n",
              "      <td>0</td>\n",
              "    </tr>\n",
              "  </tbody>\n",
              "</table>\n",
              "<p>1 rows × 3706 columns</p>\n",
              "</div>\n",
              "    <div class=\"colab-df-buttons\">\n",
              "\n",
              "  <div class=\"colab-df-container\">\n",
              "    <button class=\"colab-df-convert\" onclick=\"convertToInteractive('df-90ef7c6f-3e8d-4cfd-8f81-25956d240376')\"\n",
              "            title=\"Convert this dataframe to an interactive table.\"\n",
              "            style=\"display:none;\">\n",
              "\n",
              "  <svg xmlns=\"http://www.w3.org/2000/svg\" height=\"24px\" viewBox=\"0 -960 960 960\">\n",
              "    <path d=\"M120-120v-720h720v720H120Zm60-500h600v-160H180v160Zm220 220h160v-160H400v160Zm0 220h160v-160H400v160ZM180-400h160v-160H180v160Zm440 0h160v-160H620v160ZM180-180h160v-160H180v160Zm440 0h160v-160H620v160Z\"/>\n",
              "  </svg>\n",
              "    </button>\n",
              "\n",
              "  <style>\n",
              "    .colab-df-container {\n",
              "      display:flex;\n",
              "      gap: 12px;\n",
              "    }\n",
              "\n",
              "    .colab-df-convert {\n",
              "      background-color: #E8F0FE;\n",
              "      border: none;\n",
              "      border-radius: 50%;\n",
              "      cursor: pointer;\n",
              "      display: none;\n",
              "      fill: #1967D2;\n",
              "      height: 32px;\n",
              "      padding: 0 0 0 0;\n",
              "      width: 32px;\n",
              "    }\n",
              "\n",
              "    .colab-df-convert:hover {\n",
              "      background-color: #E2EBFA;\n",
              "      box-shadow: 0px 1px 2px rgba(60, 64, 67, 0.3), 0px 1px 3px 1px rgba(60, 64, 67, 0.15);\n",
              "      fill: #174EA6;\n",
              "    }\n",
              "\n",
              "    .colab-df-buttons div {\n",
              "      margin-bottom: 4px;\n",
              "    }\n",
              "\n",
              "    [theme=dark] .colab-df-convert {\n",
              "      background-color: #3B4455;\n",
              "      fill: #D2E3FC;\n",
              "    }\n",
              "\n",
              "    [theme=dark] .colab-df-convert:hover {\n",
              "      background-color: #434B5C;\n",
              "      box-shadow: 0px 1px 3px 1px rgba(0, 0, 0, 0.15);\n",
              "      filter: drop-shadow(0px 1px 2px rgba(0, 0, 0, 0.3));\n",
              "      fill: #FFFFFF;\n",
              "    }\n",
              "  </style>\n",
              "\n",
              "    <script>\n",
              "      const buttonEl =\n",
              "        document.querySelector('#df-90ef7c6f-3e8d-4cfd-8f81-25956d240376 button.colab-df-convert');\n",
              "      buttonEl.style.display =\n",
              "        google.colab.kernel.accessAllowed ? 'block' : 'none';\n",
              "\n",
              "      async function convertToInteractive(key) {\n",
              "        const element = document.querySelector('#df-90ef7c6f-3e8d-4cfd-8f81-25956d240376');\n",
              "        const dataTable =\n",
              "          await google.colab.kernel.invokeFunction('convertToInteractive',\n",
              "                                                    [key], {});\n",
              "        if (!dataTable) return;\n",
              "\n",
              "        const docLinkHtml = 'Like what you see? Visit the ' +\n",
              "          '<a target=\"_blank\" href=https://colab.research.google.com/notebooks/data_table.ipynb>data table notebook</a>'\n",
              "          + ' to learn more about interactive tables.';\n",
              "        element.innerHTML = '';\n",
              "        dataTable['output_type'] = 'display_data';\n",
              "        await google.colab.output.renderOutput(dataTable, element);\n",
              "        const docLink = document.createElement('div');\n",
              "        docLink.innerHTML = docLinkHtml;\n",
              "        element.appendChild(docLink);\n",
              "      }\n",
              "    </script>\n",
              "  </div>\n",
              "\n",
              "    </div>\n",
              "  </div>\n"
            ],
            "application/vnd.google.colaboratory.intrinsic+json": {
              "type": "dataframe",
              "variable_name": "new_user_data_reordered"
            }
          },
          "metadata": {},
          "execution_count": 116
        }
      ]
    },
    {
      "cell_type": "code",
      "source": [
        "# Predict the cluster for the new user\n",
        "print(\"Predicting the cluster for the new user...\")\n",
        "new_user_cluster = kmeans.predict(new_user_df.values)"
      ],
      "metadata": {
        "colab": {
          "base_uri": "https://localhost:8080/"
        },
        "id": "O9QXRR8940lE",
        "outputId": "9f1000fd-9890-479e-e6c7-bbe706852677"
      },
      "execution_count": 117,
      "outputs": [
        {
          "output_type": "stream",
          "name": "stdout",
          "text": [
            "Predicting the cluster for the new user...\n"
          ]
        }
      ]
    },
    {
      "cell_type": "code",
      "source": [
        "new_user_cluster"
      ],
      "metadata": {
        "colab": {
          "base_uri": "https://localhost:8080/"
        },
        "id": "_jMiGUyf44Md",
        "outputId": "a27d04da-bee8-4f2f-818d-abc585555f31"
      },
      "execution_count": 118,
      "outputs": [
        {
          "output_type": "execute_result",
          "data": {
            "text/plain": [
              "array([2])"
            ]
          },
          "metadata": {},
          "execution_count": 118
        }
      ]
    },
    {
      "cell_type": "code",
      "source": [
        "# New user ratings\n",
        "new_user_ratings = {'Toy Story (1995)': 5, 'Jurassic Park (1993)': 4, 'Forrest Gump (1994)': 3}\n",
        "\n",
        "# Create DataFrame for the new user\n",
        "new_user_data = pd.DataFrame([new_user_ratings])\n",
        "\n",
        "# Convert movie titles to columns\n",
        "new_user_movies = pd.DataFrame(columns=user_ratings.columns)\n",
        "\n",
        "# Merge new user data with the movie DataFrame\n",
        "new_user_data_merged = pd.merge(new_user_movies, new_user_data, how='outer').fillna(0)\n",
        "\n",
        "# Reorder the columns of new_user_data_merged to match the order of user_ratings\n",
        "new_user_data_reordered = new_user_data_merged[user_ratings.columns]\n",
        "\n",
        "# Predict the cluster for the new user\n",
        "print(\"Predicting the cluster for the new user...\")\n",
        "new_user_cluster = kmeans.predict(new_user_data_reordered.values)\n",
        "\n",
        "# Transform the new user data using SVD of the predicted cluster\n",
        "print(\"Transforming new user data using SVD...\")\n",
        "new_user_data_reduced = np.dot(new_user_data_reordered.values, clusters[new_user_cluster[0]].Vt)\n",
        "\n",
        "# Compute the predicted ratings matrix for the new user using the SVD of the predicted cluster\n",
        "print(\"Computing predicted ratings for the new user...\")\n",
        "predicted_cluster_svd = clusters[new_user_cluster[0]]\n",
        "predicted_ratings_intermediate = predicted_cluster_svd.S.dot(predicted_cluster_svd.Vt.T)\n",
        "# Then multiply U\n",
        "predicted_ratings = new_user_data_reduced.dot(predicted_ratings_intermediate)\n",
        "print(predicted_ratings)\n",
        "\n",
        "# Print the shape of the predicted ratings matrix\n",
        "print(\"Shape of predicted ratings matrix:\", predicted_ratings.shape)\n",
        "\n",
        "# Get movie recommendations based on mean ratings of movies in the predicted cluster\n",
        "print(\"Generating movie recommendations for the new user...\")\n",
        "recommended_movies = pd.DataFrame(columns=user_ratings.columns)\n",
        "\n",
        "# Flatten the predicted ratings array\n",
        "predicted_ratings_flat = predicted_ratings[0]\n",
        "predicted_ratings_flat\n",
        "\n",
        "# Get the indices of the top rated movies\n",
        "top_indices = np.argsort(predicted_ratings_flat)[::-1][:5]\n",
        "print(top_indices)\n",
        "\n",
        "# Get the corresponding movies\n",
        "top_movies = user_ratings.columns[top_indices]\n",
        "\n",
        "# Get the corresponding ratings\n",
        "top_ratings = predicted_ratings_flat[top_indices]\n",
        "\n",
        "# Print the top recommended movies and their ratings\n",
        "print(\"Top 5 recommended movies and their ratings:\")\n",
        "for movie, rating in zip(top_movies, top_ratings):\n",
        "    print(f\"{movie}: {rating}\")"
      ],
      "metadata": {
        "colab": {
          "base_uri": "https://localhost:8080/"
        },
        "id": "mimCPo01VeVa",
        "outputId": "ef090973-6d73-40ec-fa1e-6c14084b8a34"
      },
      "execution_count": 191,
      "outputs": [
        {
          "output_type": "stream",
          "name": "stdout",
          "text": [
            "Predicting the cluster for the new user...\n",
            "Transforming new user data using SVD...\n",
            "Computing predicted ratings for the new user...\n",
            "[[ 1.33869739  0.028569    0.1114276  ... -2.06312809  2.36067247\n",
            "   3.31718124]]\n",
            "Shape of predicted ratings matrix: (1, 3706)\n",
            "Generating movie recommendations for the new user...\n",
            "[1789  182 3412 1246 2456]\n",
            "Top 5 recommended movies and their ratings:\n",
            "Jurassic Park (1993): 9.833108071151507\n",
            "Anne Frank Remembered (1995): 8.332457472011063\n",
            "Toy Story 2 (1999): 8.101349821908544\n",
            "French Connection, The (1971): 8.027699182226197\n",
            "One Night Stand (1997): 8.025655536980695\n"
          ]
        }
      ]
    },
    {
      "cell_type": "code",
      "source": [
        "import numpy as np\n",
        "\n",
        "# Scale the predicted ratings to ensure they are between 1 and 5\n",
        "min_rating = predicted_ratings.min()\n",
        "max_rating = predicted_ratings.max()\n",
        "predicted_ratings_scaled = 1 + ((predicted_ratings - min_rating) * 4 / (max_rating - min_rating))\n",
        "\n",
        "# Round the scaled ratings to the nearest integer value\n",
        "predicted_ratings_scaled_rounded = np.where(predicted_ratings_scaled - np.floor(predicted_ratings_scaled) >= 0.5, np.ceil(predicted_ratings_scaled), np.floor(predicted_ratings_scaled))\n",
        "\n",
        "# Print the shape of the predicted ratings matrix\n",
        "print(\"Shape of predicted ratings matrix:\", predicted_ratings_scaled_rounded.shape)\n",
        "\n",
        "# Get movie recommendations based on mean ratings of movies in the predicted cluster\n",
        "print(\"Generating movie recommendations for the new user...\")\n",
        "recommended_movies = pd.DataFrame(columns=user_ratings.columns)\n",
        "\n",
        "# Flatten the scaled and rounded predicted ratings array\n",
        "predicted_ratings_flat_scaled_rounded = predicted_ratings_scaled_rounded[0]\n",
        "\n",
        "# Get the indices of the top rated movies\n",
        "top_indices_scaled_rounded = np.argsort(predicted_ratings_flat_scaled_rounded)[::-1][:5]\n",
        "\n",
        "# Get the corresponding movies and ratings\n",
        "top_movies_scaled_rounded = user_ratings.columns[top_indices_scaled_rounded]\n",
        "top_ratings_scaled_rounded = predicted_ratings_flat_scaled_rounded[top_indices_scaled_rounded]\n",
        "\n",
        "# Print the top recommended movies and their ratings\n",
        "print(\"Top 5 recommended movies and their ratings:\")\n",
        "for movie, rating in zip(top_movies_scaled_rounded, top_ratings_scaled_rounded):\n",
        "    print(f\"{movie}: {rating}\")\n"
      ],
      "metadata": {
        "colab": {
          "base_uri": "https://localhost:8080/"
        },
        "id": "oh7DWuXAhI34",
        "outputId": "6881e4b6-912a-4950-b54c-f93fdf9ede88"
      },
      "execution_count": 207,
      "outputs": [
        {
          "output_type": "stream",
          "name": "stdout",
          "text": [
            "Shape of predicted ratings matrix: (1, 3706)\n",
            "Generating movie recommendations for the new user...\n",
            "Top 5 recommended movies and their ratings:\n",
            "FairyTale: A True Story (1997): 5.0\n",
            "Small Time Crooks (2000): 5.0\n",
            "One Night Stand (1997): 5.0\n",
            "French Connection, The (1971): 5.0\n",
            "Anne Frank Remembered (1995): 5.0\n"
          ]
        }
      ]
    },
    {
      "cell_type": "code",
      "source": [],
      "metadata": {
        "id": "axPMkOevhJig"
      },
      "execution_count": null,
      "outputs": []
    }
  ]
}